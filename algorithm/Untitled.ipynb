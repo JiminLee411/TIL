{
 "cells": [
  {
   "cell_type": "code",
   "execution_count": 37,
   "metadata": {},
   "outputs": [
    {
     "name": "stdout",
     "output_type": "stream",
     "text": [
      "456789\n",
      "[0, 0, 0, 0, 0, 0, 0, 0, 0, 1, 0, 0]\n",
      "45678\n",
      "[0, 0, 0, 0, 0, 0, 0, 0, 1, 1, 0, 0]\n",
      "4567\n",
      "[0, 0, 0, 0, 0, 0, 0, 1, 1, 1, 0, 0]\n",
      "456\n",
      "[0, 0, 0, 0, 0, 0, 1, 1, 1, 1, 0, 0]\n",
      "45\n",
      "[0, 0, 0, 0, 0, 1, 1, 1, 1, 1, 0, 0]\n",
      "4\n",
      "[0, 0, 0, 0, 1, 1, 1, 1, 1, 1, 0, 0]\n"
     ]
    }
   ],
   "source": [
    "num = 456789\n",
    "c = [0] * 12\n",
    "\n",
    "for i in range(6):\n",
    "    c[num % 10] += 1\n",
    "    print(num)\n",
    "    num //= 10\n",
    "    print(c)\n",
    "\n",
    "    \n",
    "i = 0\n",
    "tri = run = 0"
   ]
  },
  {
   "cell_type": "markdown",
   "metadata": {},
   "source": [
    "완전 탐색"
   ]
  },
  {
   "cell_type": "code",
   "execution_count": 34,
   "metadata": {},
   "outputs": [
    {
     "name": "stdout",
     "output_type": "stream",
     "text": [
      "A A C\n",
      "A C A\n",
      "A A C\n",
      "A C A\n",
      "C A A\n",
      "C A A\n"
     ]
    }
   ],
   "source": [
    "arr = \"AAC\"\n",
    "n = len(arr)\n",
    "\n",
    "# 순열\n",
    "for i in range(n):\n",
    "    for j in range(n):\n",
    "        if j == i: continue\n",
    "        for k in range(n):\n",
    "            if k == i or k == j:\n",
    "                continue\n",
    "            print(arr[i], arr[j], arr[k])      \n",
    "        "
   ]
  },
  {
   "cell_type": "markdown",
   "metadata": {},
   "source": [
    "## 거스름돈 줄이기\n",
    "일반적인 경우 : 값을 나누면서 구할 수 있지만\n",
    "\n",
    "추가적으로 다른 값이 추가되면 안되는 값이 나오기도 한다.\n",
    "\n",
    "-> 이때는 완전 탐색을 이용해야한다."
   ]
  },
  {
   "cell_type": "code",
   "execution_count": null,
   "metadata": {},
   "outputs": [],
   "source": [
    "coins = [500, 400, 100, 50, 10]\n",
    "return_money = int(input())\n",
    "\n",
    "for coin in coins:\n",
    "    return_money "
   ]
  }
 ],
 "metadata": {
  "kernelspec": {
   "display_name": "Python 3",
   "language": "python",
   "name": "python3"
  },
  "language_info": {
   "codemirror_mode": {
    "name": "ipython",
    "version": 3
   },
   "file_extension": ".py",
   "mimetype": "text/x-python",
   "name": "python",
   "nbconvert_exporter": "python",
   "pygments_lexer": "ipython3",
   "version": "3.7.3"
  },
  "toc": {
   "base_numbering": 1,
   "nav_menu": {},
   "number_sections": true,
   "sideBar": true,
   "skip_h1_title": false,
   "title_cell": "Table of Contents",
   "title_sidebar": "Contents",
   "toc_cell": false,
   "toc_position": {},
   "toc_section_display": true,
   "toc_window_display": false
  }
 },
 "nbformat": 4,
 "nbformat_minor": 2
}
