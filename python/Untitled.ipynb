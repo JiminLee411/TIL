{
 "cells": [
  {
   "cell_type": "code",
   "execution_count": 9,
   "metadata": {},
   "outputs": [],
   "source": [
    "class Circle:\n",
    "    pi = 3.14\n",
    "    x = 0\n",
    "    y = 0\n",
    "    r = 0\n",
    "    \n",
    "    def __init__(self, r, x, y):\n",
    "        self.r = r\n",
    "        self.x = x\n",
    "        self.y = y\n",
    "        \n",
    "    def area(self):\n",
    "        return self.pi * self.r * self.r\n",
    "    \n",
    "    def circumference(self):\n",
    "        return 2 * Circle.pi * self.r\n",
    "    \n",
    "    def center(self):\n",
    "        return (self.x, self.y)"
   ]
  },
  {
   "cell_type": "code",
   "execution_count": 10,
   "metadata": {},
   "outputs": [
    {
     "name": "stdout",
     "output_type": "stream",
     "text": [
      "원의 면적은 28.26, 원의 둘레는 18.84 입니다.\n"
     ]
    }
   ],
   "source": [
    "# 객체를 생성하여 Circle 클래스의 __init__ 메서드를 실행한다.\n",
    "cir = Circle(3, 2, 4)\n",
    "# center 메서드 실행하여 x, y좌표 설정한다.\n",
    "cir.center()\n",
    "# area 메서드 실행하여 원의 면적을 구한다.\n",
    "area = cir.area() \n",
    "# circumference 메서드 실행하여 원의 둘레를 구한다.\n",
    "circumference = cir.circumference()\n",
    "\n",
    "# 결과 출력\n",
    "print(f'원의 면적은 {area:.2f}, 원의 둘레는 {circumference:.2f} 입니다.')\n",
    "# => 원의 면적은 28.26, 원의 둘레는 18.84 입니다."
   ]
  },
  {
   "cell_type": "code",
   "execution_count": null,
   "metadata": {},
   "outputs": [],
   "source": []
  }
 ],
 "metadata": {
  "kernelspec": {
   "display_name": "Python 3",
   "language": "python",
   "name": "python3"
  },
  "language_info": {
   "codemirror_mode": {
    "name": "ipython",
    "version": 3
   },
   "file_extension": ".py",
   "mimetype": "text/x-python",
   "name": "python",
   "nbconvert_exporter": "python",
   "pygments_lexer": "ipython3",
   "version": "3.7.3"
  },
  "toc": {
   "base_numbering": 1,
   "nav_menu": {},
   "number_sections": true,
   "sideBar": true,
   "skip_h1_title": false,
   "title_cell": "Table of Contents",
   "title_sidebar": "Contents",
   "toc_cell": false,
   "toc_position": {},
   "toc_section_display": true,
   "toc_window_display": false
  }
 },
 "nbformat": 4,
 "nbformat_minor": 2
}
